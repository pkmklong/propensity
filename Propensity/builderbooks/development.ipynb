{
 "cells": [
  {
   "cell_type": "code",
   "execution_count": 1,
   "metadata": {},
   "outputs": [],
   "source": [
    "using Statistics\n",
    "using StatsModels\n",
    "using GLM\n",
    "using CSV\n",
    "using DataFrames\n",
    "#using Plots\n",
    "using Gadfly"
   ]
  },
  {
   "cell_type": "markdown",
   "metadata": {},
   "source": [
    "### Preprocess"
   ]
  },
  {
   "cell_type": "code",
   "execution_count": 2,
   "metadata": {},
   "outputs": [
    {
     "data": {
      "text/plain": [
       "sigmoid (generic function with 1 method)"
      ]
     },
     "execution_count": 2,
     "metadata": {},
     "output_type": "execute_result"
    }
   ],
   "source": [
    "\n",
    "function scale(X)\n",
    "    X_mean= mean(X, dims=1)\n",
    "    X_std = std(X, dims=1)\n",
    "\n",
    "    X_norm = (X .- X_mean) ./ X_std\n",
    "    \n",
    "    return X_norm, X_mean, X_std\n",
    "end\n",
    "\n",
    "\n",
    "function scale_transform(X, X_mean, X_std)\n",
    "    \n",
    "    X_norm = (X .- X_mean) ./ X_std\n",
    "    return X_norm\n",
    "end\n",
    "\n",
    "\n",
    "function sigmoid(z)\n",
    "    return 1 ./ (1 .+ exp.(.-z))\n",
    "end"
   ]
  },
  {
   "cell_type": "code",
   "execution_count": 3,
   "metadata": {},
   "outputs": [
    {
     "ename": "LoadError",
     "evalue": "UndefVarError: X not defined",
     "output_type": "error",
     "traceback": [
      "UndefVarError: X not defined",
      "",
      "Stacktrace:",
      " [1] top-level scope at In[3]:1",
      " [2] include_string(::Function, ::Module, ::String, ::String) at ./loading.jl:1091"
     ]
    }
   ],
   "source": [
    "_, X_mean, X_std = scale(X)\n",
    "\n",
    "scale_transform(X, X_mean, X_std)"
   ]
  },
  {
   "cell_type": "markdown",
   "metadata": {},
   "source": [
    "### Data"
   ]
  },
  {
   "cell_type": "markdown",
   "metadata": {},
   "source": [
    "* <b>Subjects</b>: 400 subjects (male) from retrospective cohort study hospital with suspected MI.\n",
    "* <b>Outcome</b>: 30-day mortality (death=1)\n",
    "* <b>Intervention</b>: Rapid administration of a new clot-busting drug (trt=1) versus a standard therapy (trt=0)\n",
    "* <b>Source</b>: http://web.hku.hk/~bcowling/data/propensity.csv"
   ]
  },
  {
   "cell_type": "code",
   "execution_count": 4,
   "metadata": {},
   "outputs": [
    {
     "data": {
      "text/html": [
       "<table class=\"data-frame\"><thead><tr><th></th><th>age</th><th>male</th><th>risk</th><th>severity</th><th>trt</th><th>death</th></tr><tr><th></th><th>Int64</th><th>Int64</th><th>Int64</th><th>Int64</th><th>Int64</th><th>Int64</th></tr></thead><tbody><p>6 rows × 6 columns</p><tr><th>1</th><td>48</td><td>1</td><td>3</td><td>8</td><td>0</td><td>0</td></tr><tr><th>2</th><td>59</td><td>1</td><td>4</td><td>6</td><td>1</td><td>0</td></tr><tr><th>3</th><td>67</td><td>1</td><td>3</td><td>6</td><td>0</td><td>1</td></tr><tr><th>4</th><td>51</td><td>1</td><td>0</td><td>6</td><td>0</td><td>0</td></tr><tr><th>5</th><td>56</td><td>1</td><td>1</td><td>6</td><td>1</td><td>0</td></tr><tr><th>6</th><td>60</td><td>1</td><td>1</td><td>6</td><td>0</td><td>0</td></tr></tbody></table>"
      ],
      "text/latex": [
       "\\begin{tabular}{r|cccccc}\n",
       "\t& age & male & risk & severity & trt & death\\\\\n",
       "\t\\hline\n",
       "\t& Int64 & Int64 & Int64 & Int64 & Int64 & Int64\\\\\n",
       "\t\\hline\n",
       "\t1 & 48 & 1 & 3 & 8 & 0 & 0 \\\\\n",
       "\t2 & 59 & 1 & 4 & 6 & 1 & 0 \\\\\n",
       "\t3 & 67 & 1 & 3 & 6 & 0 & 1 \\\\\n",
       "\t4 & 51 & 1 & 0 & 6 & 0 & 0 \\\\\n",
       "\t5 & 56 & 1 & 1 & 6 & 1 & 0 \\\\\n",
       "\t6 & 60 & 1 & 1 & 6 & 0 & 0 \\\\\n",
       "\\end{tabular}\n"
      ],
      "text/plain": [
       "6×6 DataFrame\n",
       "│ Row │ age   │ male  │ risk  │ severity │ trt   │ death │\n",
       "│     │ \u001b[90mInt64\u001b[39m │ \u001b[90mInt64\u001b[39m │ \u001b[90mInt64\u001b[39m │ \u001b[90mInt64\u001b[39m    │ \u001b[90mInt64\u001b[39m │ \u001b[90mInt64\u001b[39m │\n",
       "├─────┼───────┼───────┼───────┼──────────┼───────┼───────┤\n",
       "│ 1   │ 48    │ 1     │ 3     │ 8        │ 0     │ 0     │\n",
       "│ 2   │ 59    │ 1     │ 4     │ 6        │ 1     │ 0     │\n",
       "│ 3   │ 67    │ 1     │ 3     │ 6        │ 0     │ 1     │\n",
       "│ 4   │ 51    │ 1     │ 0     │ 6        │ 0     │ 0     │\n",
       "│ 5   │ 56    │ 1     │ 1     │ 6        │ 1     │ 0     │\n",
       "│ 6   │ 60    │ 1     │ 1     │ 6        │ 0     │ 0     │"
      ]
     },
     "execution_count": 4,
     "metadata": {},
     "output_type": "execute_result"
    }
   ],
   "source": [
    "df = CSV.File(\"../../data/propensity.csv\") |> DataFrame;\n",
    "head(df)"
   ]
  },
  {
   "cell_type": "code",
   "execution_count": 5,
   "metadata": {},
   "outputs": [
    {
     "data": {
      "text/plain": [
       "(400, 6)"
      ]
     },
     "execution_count": 5,
     "metadata": {},
     "output_type": "execute_result"
    }
   ],
   "source": [
    "size(df)"
   ]
  },
  {
   "cell_type": "code",
   "execution_count": 6,
   "metadata": {},
   "outputs": [],
   "source": [
    "df_train = df[begin:300,:]\n",
    "df_test = df[300:end,:];"
   ]
  },
  {
   "cell_type": "code",
   "execution_count": 7,
   "metadata": {},
   "outputs": [
    {
     "name": "stdout",
     "output_type": "stream",
     "text": [
      "[\"age\", \"male\", \"risk\", \"severity\", \"trt\", \"death\"]\n"
     ]
    }
   ],
   "source": [
    "println(names(df))"
   ]
  },
  {
   "cell_type": "markdown",
   "metadata": {},
   "source": [
    "### Calculate Propensity Score of Treatment"
   ]
  },
  {
   "cell_type": "code",
   "execution_count": 8,
   "metadata": {},
   "outputs": [
    {
     "data": {
      "text/plain": [
       "FormulaTerm\n",
       "Response:\n",
       "  trt(unknown)\n",
       "Predictors:\n",
       "  age(unknown)\n",
       "  risk(unknown)\n",
       "  severity(unknown)"
      ]
     },
     "execution_count": 8,
     "metadata": {},
     "output_type": "execute_result"
    }
   ],
   "source": [
    "# Propensity for intervetion given covariates\n",
    "fm = @formula(trt ~ age + risk + severity)"
   ]
  },
  {
   "cell_type": "code",
   "execution_count": 9,
   "metadata": {},
   "outputs": [
    {
     "data": {
      "text/plain": [
       "StatsModels.TableRegressionModel{GeneralizedLinearModel{GLM.GlmResp{Array{Float64,1},Binomial{Float64},LogitLink},GLM.DensePredChol{Float64,LinearAlgebra.Cholesky{Float64,Array{Float64,2}}}},Array{Float64,2}}\n",
       "\n",
       "trt ~ 1 + age + risk + severity\n",
       "\n",
       "Coefficients:\n",
       "─────────────────────────────────────────────────────────────────────────────\n",
       "                  Coef.  Std. Error      z  Pr(>|z|)    Lower 95%   Upper 95%\n",
       "─────────────────────────────────────────────────────────────────────────────\n",
       "(Intercept)  -3.31244     0.986663   -3.36    0.0008  -5.24626     -1.37862\n",
       "age           0.0403817   0.0182184   2.22    0.0267   0.00467423   0.0760892\n",
       "risk          0.176141    0.105609    1.67    0.0953  -0.0308482    0.383131\n",
       "severity      0.124517    0.0615208   2.02    0.0430   0.00393811   0.245095\n",
       "─────────────────────────────────────────────────────────────────────────────"
      ]
     },
     "execution_count": 9,
     "metadata": {},
     "output_type": "execute_result"
    }
   ],
   "source": [
    "logit = glm(fm, df_train, Binomial(), LogitLink())"
   ]
  },
  {
   "cell_type": "code",
   "execution_count": 10,
   "metadata": {},
   "outputs": [],
   "source": [
    "prediction = predict(logit, df_test);"
   ]
  },
  {
   "cell_type": "code",
   "execution_count": 11,
   "metadata": {},
   "outputs": [],
   "source": [
    "df_test[Symbol(\"Propensity_Scores\")] = prediction;"
   ]
  },
  {
   "cell_type": "code",
   "execution_count": 12,
   "metadata": {},
   "outputs": [
    {
     "data": {
      "text/html": [
       "<table class=\"data-frame\"><thead><tr><th></th><th>age</th><th>male</th><th>risk</th><th>severity</th><th>trt</th><th>death</th><th>Propensity_Scores</th></tr><tr><th></th><th>Int64</th><th>Int64</th><th>Int64</th><th>Int64</th><th>Int64</th><th>Int64</th><th>Float64?</th></tr></thead><tbody><p>6 rows × 7 columns</p><tr><th>1</th><td>50</td><td>1</td><td>1</td><td>7</td><td>0</td><td>0</td><td>0.438908</td></tr><tr><th>2</th><td>42</td><td>1</td><td>0</td><td>5</td><td>1</td><td>0</td><td>0.270157</td></tr><tr><th>3</th><td>41</td><td>1</td><td>0</td><td>5</td><td>0</td><td>1</td><td>0.26227</td></tr><tr><th>4</th><td>64</td><td>1</td><td>4</td><td>7</td><td>1</td><td>1</td><td>0.700184</td></tr><tr><th>5</th><td>66</td><td>1</td><td>3</td><td>5</td><td>1</td><td>0</td><td>0.623343</td></tr><tr><th>6</th><td>52</td><td>1</td><td>1</td><td>8</td><td>0</td><td>1</td><td>0.489923</td></tr></tbody></table>"
      ],
      "text/latex": [
       "\\begin{tabular}{r|ccccccc}\n",
       "\t& age & male & risk & severity & trt & death & Propensity\\_Scores\\\\\n",
       "\t\\hline\n",
       "\t& Int64 & Int64 & Int64 & Int64 & Int64 & Int64 & Float64?\\\\\n",
       "\t\\hline\n",
       "\t1 & 50 & 1 & 1 & 7 & 0 & 0 & 0.438908 \\\\\n",
       "\t2 & 42 & 1 & 0 & 5 & 1 & 0 & 0.270157 \\\\\n",
       "\t3 & 41 & 1 & 0 & 5 & 0 & 1 & 0.26227 \\\\\n",
       "\t4 & 64 & 1 & 4 & 7 & 1 & 1 & 0.700184 \\\\\n",
       "\t5 & 66 & 1 & 3 & 5 & 1 & 0 & 0.623343 \\\\\n",
       "\t6 & 52 & 1 & 1 & 8 & 0 & 1 & 0.489923 \\\\\n",
       "\\end{tabular}\n"
      ],
      "text/plain": [
       "6×7 DataFrame\n",
       "│ Row │ age   │ male  │ risk  │ severity │ trt   │ death │ Propensity_Scores │\n",
       "│     │ \u001b[90mInt64\u001b[39m │ \u001b[90mInt64\u001b[39m │ \u001b[90mInt64\u001b[39m │ \u001b[90mInt64\u001b[39m    │ \u001b[90mInt64\u001b[39m │ \u001b[90mInt64\u001b[39m │ \u001b[90mFloat64?\u001b[39m          │\n",
       "├─────┼───────┼───────┼───────┼──────────┼───────┼───────┼───────────────────┤\n",
       "│ 1   │ 50    │ 1     │ 1     │ 7        │ 0     │ 0     │ 0.438908          │\n",
       "│ 2   │ 42    │ 1     │ 0     │ 5        │ 1     │ 0     │ 0.270157          │\n",
       "│ 3   │ 41    │ 1     │ 0     │ 5        │ 0     │ 1     │ 0.26227           │\n",
       "│ 4   │ 64    │ 1     │ 4     │ 7        │ 1     │ 1     │ 0.700184          │\n",
       "│ 5   │ 66    │ 1     │ 3     │ 5        │ 1     │ 0     │ 0.623343          │\n",
       "│ 6   │ 52    │ 1     │ 1     │ 8        │ 0     │ 1     │ 0.489923          │"
      ]
     },
     "execution_count": 12,
     "metadata": {},
     "output_type": "execute_result"
    }
   ],
   "source": [
    "head(df_test)"
   ]
  },
  {
   "cell_type": "code",
   "execution_count": 16,
   "metadata": {
    "scrolled": false
   },
   "outputs": [
    {
     "data": {
      "text/plain": [
       "Plot(...)"
      ]
     },
     "execution_count": 16,
     "metadata": {},
     "output_type": "execute_result"
    }
   ],
   "source": [
    "p = plot(\n",
    "    df_test, x=:trt, y=:Propensity_Scores, \n",
    "    Geom.boxplot,\n",
    "    color=:trt,\n",
    "    Guide.title(\"Propensity Score\"),\n",
    "    Guide.xticks(orientation=:vertical)\n",
    "    )"
   ]
  },
  {
   "cell_type": "code",
   "execution_count": 17,
   "metadata": {},
   "outputs": [
    {
     "data": {
      "text/plain": [
       "Plot(...)"
      ]
     },
     "execution_count": 17,
     "metadata": {},
     "output_type": "execute_result"
    }
   ],
   "source": [
    "p"
   ]
  },
  {
   "cell_type": "code",
   "execution_count": null,
   "metadata": {},
   "outputs": [],
   "source": [
    "xdata = sort(iris[:SepalWidth])\n",
    "ydata = cumsum(xdata)\n",
    "line = layer(x=xdata, y=ydata, Geom.line, Theme(default_color=\"red\"))\n",
    "bars = layer(iris, x=:SepalWidth, Geom.bar)\n",
    "plot(line, bars)"
   ]
  },
  {
   "cell_type": "code",
   "execution_count": null,
   "metadata": {},
   "outputs": [],
   "source": []
  },
  {
   "cell_type": "code",
   "execution_count": null,
   "metadata": {},
   "outputs": [],
   "source": []
  },
  {
   "cell_type": "code",
   "execution_count": null,
   "metadata": {},
   "outputs": [],
   "source": []
  }
 ],
 "metadata": {
  "kernelspec": {
   "display_name": "Julia 1.5.1",
   "language": "julia",
   "name": "julia-1.5"
  },
  "language_info": {
   "file_extension": ".jl",
   "mimetype": "application/julia",
   "name": "julia",
   "version": "1.5.1"
  }
 },
 "nbformat": 4,
 "nbformat_minor": 4
}
